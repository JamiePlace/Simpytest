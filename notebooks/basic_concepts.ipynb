{
 "cells": [
  {
   "cell_type": "code",
   "execution_count": 2,
   "metadata": {},
   "outputs": [],
   "source": [
    "import simpy"
   ]
  },
  {
   "cell_type": "markdown",
   "metadata": {},
   "source": [
    "SimPy is a discrete-event simulation library. The behavior of active components (like vehicles, customers or messages) is modeled with processes. All processes live in an environment. They interact with the environment and with each other via events.\n",
    "\n",
    "Processes are described by simple Python [generators](https://docs.python.org/3/reference/expressions.html#yieldexpr). You can call them process function or process method, depending on whether it is a normal function or method of a class. During their lifetime, they create events and yield them in order to wait for them to be triggered.\n",
    "\n",
    "When a process yields an event, the process gets suspended. SimPy resumes the process, when the event occurs (we say that the event is triggered). Multiple processes can wait for the same event. SimPy resumes them in the same order in which they yielded that event.\n",
    "\n",
    "An important event type is the `Timeout`. Events of this type are triggered after a certain amount of (simulated) time has passed. They allow a process to sleep (or hold its state) for the given time. A `Timeout` and all other events can be created by calling the appropriate method of the `Environment` that the process lives in (`Environment.timeout()` for example)."
   ]
  },
  {
   "cell_type": "markdown",
   "metadata": {},
   "source": [
    "## First Process"
   ]
  },
  {
   "cell_type": "markdown",
   "metadata": {},
   "source": [
    "Our first example will be a car process. The car will alternately drive and park for a while. When it starts driving (or parking), it will print the current simulation time."
   ]
  },
  {
   "cell_type": "code",
   "execution_count": 1,
   "metadata": {},
   "outputs": [],
   "source": [
    "def car(env):\n",
    "     while True:\n",
    "            print('Start parking at %d' % env.now)\n",
    "            parking_duration = 5\n",
    "            yield env.timeout(parking_duration)\n",
    "            \n",
    "            print('Start driving at %d' % env.now)\n",
    "            trip_duration = 2\n",
    "            yield env.timeout(trip_duration)"
   ]
  },
  {
   "cell_type": "markdown",
   "metadata": {},
   "source": [
    "Our car process requires a reference to an `Environment` (env) in order to create new events. The car’s behavior is described in an infinite loop. Remember, this function is a generator. Though it will never terminate, it will pass the control flow back to the simulation once a yield statement is reached. Once the yielded event is triggered (“it occurs”), the simulation will resume the function at this statement.\n",
    "\n",
    "As I said before, our car switches between the states parking and driving. It announces its new state by printing a message and the current simulation time (as returned by the `Environment.now` property). It then calls the `Environment.timeout()` factory function to create a `Timeout` event. This event describes the point in time the car is done parking (or driving, respectively). By yielding the event, it signals the simulation that it wants to wait for the event to occur.\n",
    "\n",
    "Now that the behavior of our car has been modeled, lets create an instance of it and see how it behaves:"
   ]
  },
  {
   "cell_type": "code",
   "execution_count": 3,
   "metadata": {},
   "outputs": [],
   "source": [
    "env = simpy.Environment()"
   ]
  },
  {
   "cell_type": "code",
   "execution_count": 4,
   "metadata": {},
   "outputs": [
    {
     "data": {
      "text/plain": [
       "<Process(car) object at 0x7fb1c0409790>"
      ]
     },
     "execution_count": 4,
     "metadata": {},
     "output_type": "execute_result"
    }
   ],
   "source": [
    "env.process(car(env))"
   ]
  },
  {
   "cell_type": "code",
   "execution_count": 5,
   "metadata": {},
   "outputs": [
    {
     "name": "stdout",
     "output_type": "stream",
     "text": [
      "Start parking at 0\n",
      "Start driving at 5\n",
      "Start parking at 7\n",
      "Start driving at 12\n",
      "Start parking at 14\n"
     ]
    }
   ],
   "source": [
    "env.run(until=15)"
   ]
  },
  {
   "cell_type": "markdown",
   "metadata": {},
   "source": [
    "## Process Interaction"
   ]
  },
  {
   "cell_type": "markdown",
   "metadata": {},
   "source": [
    "The `Process` instance that is returned by `Environment.process()` can be utilized for process interactions. The two most common examples for this are to wait for another process to finish and to interrupt another process while it is waiting for an event."
   ]
  },
  {
   "cell_type": "markdown",
   "metadata": {},
   "source": [
    "## Waiting for a Process"
   ]
  },
  {
   "cell_type": "markdown",
   "metadata": {},
   "source": [
    "As it happens, a SimPy `Process` can be used like an event (technically, a process actually is an event). If you yield it, you are resumed once the process has finished. Imagine a car-wash simulation where cars enter the car-wash and wait for the washing process to finish. Or an airport simulation where passengers have to wait until a security check finishes.\n",
    "\n",
    "Lets assume that the car from our last example magically became an electric vehicle. Electric vehicles usually take a lot of time charging their batteries after a trip. They have to wait until their battery is charged before they can start driving again.\n",
    "\n",
    "We can model this with an additional `charge()` process for our car. Therefore, we refactor our car to be a class with two process methods: `run()` (which is the original `car()` process function) and `charge()`.\n",
    "\n",
    "The `run` process is automatically started when `Car` is instantiated. A new `charge` process is started every time the vehicle starts parking. By yielding the `Process` instance that `Environment.process()` returns, the `run` process starts waiting for it to finish:"
   ]
  },
  {
   "cell_type": "code",
   "execution_count": 22,
   "metadata": {},
   "outputs": [],
   "source": [
    "class Car(object):\n",
    "    def __init__(self, env):\n",
    "        self.env = env\n",
    "        # Start the run process everytime an instance is created.\n",
    "        self.action = env.process(self.run())\n",
    "        \n",
    "    def run(self):\n",
    "        while True:\n",
    "            # parking\n",
    "            print('start parking \\t @ %d' % self.env.now)\n",
    "            parking_duration = 3\n",
    "            yield self.env.process(self.park(parking_duration))\n",
    "            \n",
    "            # charging\n",
    "            print('start charging \\t @ %d' % self.env.now)\n",
    "            charging_duration = 19\n",
    "            yield self.env.process(self.charge(charging_duration))\n",
    "            \n",
    "            # driving\n",
    "            print('start driving \\t @ %d' % self.env.now)\n",
    "            trip_duration = 41\n",
    "            yield self.env.process(self.drive(trip_duration))\n",
    "            \n",
    "            \n",
    "    def park(self, duration):\n",
    "        yield self.env.timeout(duration)\n",
    "        \n",
    "    def charge(self, duration):\n",
    "        yield self.env.timeout(duration)\n",
    "        \n",
    "    def drive(self, duration):\n",
    "        yield self.env.timeout(duration)"
   ]
  },
  {
   "cell_type": "code",
   "execution_count": 23,
   "metadata": {},
   "outputs": [],
   "source": [
    "env = simpy.Environment()"
   ]
  },
  {
   "cell_type": "code",
   "execution_count": 24,
   "metadata": {},
   "outputs": [],
   "source": [
    "car = Car(env)"
   ]
  },
  {
   "cell_type": "code",
   "execution_count": 25,
   "metadata": {},
   "outputs": [
    {
     "name": "stdout",
     "output_type": "stream",
     "text": [
      "start parking \t @ 0\n",
      "start charging \t @ 3\n",
      "start driving \t @ 22\n",
      "start parking \t @ 63\n",
      "start charging \t @ 66\n",
      "start driving \t @ 85\n",
      "start parking \t @ 126\n",
      "start charging \t @ 129\n",
      "start driving \t @ 148\n",
      "start parking \t @ 189\n",
      "start charging \t @ 192\n"
     ]
    }
   ],
   "source": [
    "env.run(until = 210)"
   ]
  },
  {
   "cell_type": "markdown",
   "metadata": {},
   "source": [
    "## Interrupting Another Process"
   ]
  },
  {
   "cell_type": "markdown",
   "metadata": {},
   "source": [
    "SimPy allows you to interrupt a running process by calling its interrupt() method:"
   ]
  },
  {
   "cell_type": "code",
   "execution_count": 32,
   "metadata": {},
   "outputs": [],
   "source": [
    "def empty_charge(env, car):\n",
    "    yield env.timeout(10)\n",
    "    car.action.interrupt()"
   ]
  },
  {
   "cell_type": "code",
   "execution_count": 33,
   "metadata": {},
   "outputs": [],
   "source": [
    "class Car(object):\n",
    "    def __init__(self, env):\n",
    "        self.env = env\n",
    "        self.charge_level = 100\n",
    "        \n",
    "        # Start the run process everytime an instance is created.\n",
    "        self.action = env.process(self.run())\n",
    "        \n",
    "    def run(self):\n",
    "        while True:\n",
    "            # parking\n",
    "            print('start parking \\t @ %d' % self.env.now)\n",
    "            parking_duration = 3\n",
    "            yield self.env.process(self.park(parking_duration))\n",
    "            \n",
    "            # charging\n",
    "            try:\n",
    "                print('start charging \\t @ %d' % self.env.now)\n",
    "                charging_duration = 19\n",
    "                yield self.env.process(self.charge(charging_duration))\n",
    "            except simpy.Interrupt:\n",
    "                print('Was interrupted. Hope, the battery is full enough ...')\n",
    "            \n",
    "            # driving\n",
    "            print('start driving \\t @ %d' % self.env.now)\n",
    "            trip_duration = 41\n",
    "            yield self.env.process(self.drive(trip_duration))\n",
    "            \n",
    "            \n",
    "    def park(self, duration):\n",
    "        yield self.env.timeout(duration)\n",
    "        \n",
    "    def charge(self, duration):\n",
    "        yield self.env.timeout(duration)\n",
    "        \n",
    "    def drive(self, duration):\n",
    "        yield self.env.timeout(duration)\n",
    "        \n",
    "        \n",
    "    # method to record charge level of car\n",
    "    def charge_level(self)"
   ]
  },
  {
   "cell_type": "code",
   "execution_count": 34,
   "metadata": {},
   "outputs": [],
   "source": [
    "env = simpy.Environment()"
   ]
  },
  {
   "cell_type": "code",
   "execution_count": 35,
   "metadata": {},
   "outputs": [],
   "source": [
    "car = Car(env)"
   ]
  },
  {
   "cell_type": "code",
   "execution_count": 36,
   "metadata": {},
   "outputs": [
    {
     "data": {
      "text/plain": [
       "<Process(empty_charge) object at 0x7fb1c0a63cd0>"
      ]
     },
     "execution_count": 36,
     "metadata": {},
     "output_type": "execute_result"
    }
   ],
   "source": [
    "env.process(empty_charge(env, car))"
   ]
  },
  {
   "cell_type": "code",
   "execution_count": 37,
   "metadata": {},
   "outputs": [
    {
     "name": "stdout",
     "output_type": "stream",
     "text": [
      "start parking \t @ 0\n",
      "start charging \t @ 3\n",
      "Was interrupted. Hope, the battery is full enough ...\n",
      "start driving \t @ 10\n",
      "start parking \t @ 51\n",
      "start charging \t @ 54\n",
      "start driving \t @ 73\n",
      "start parking \t @ 114\n",
      "start charging \t @ 117\n",
      "start driving \t @ 136\n",
      "start parking \t @ 177\n",
      "start charging \t @ 180\n",
      "start driving \t @ 199\n"
     ]
    }
   ],
   "source": [
    "env.run(until=210)"
   ]
  },
  {
   "cell_type": "code",
   "execution_count": null,
   "metadata": {},
   "outputs": [],
   "source": []
  }
 ],
 "metadata": {
  "kernelspec": {
   "display_name": "Python 3",
   "language": "python",
   "name": "python3"
  },
  "language_info": {
   "codemirror_mode": {
    "name": "ipython",
    "version": 3
   },
   "file_extension": ".py",
   "mimetype": "text/x-python",
   "name": "python",
   "nbconvert_exporter": "python",
   "pygments_lexer": "ipython3",
   "version": "3.7.10"
  }
 },
 "nbformat": 4,
 "nbformat_minor": 4
}
